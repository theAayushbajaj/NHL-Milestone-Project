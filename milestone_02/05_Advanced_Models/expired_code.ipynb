{
 "cells": [
  {
   "cell_type": "markdown",
   "metadata": {},
   "source": [
    "# %%\n",
    "# IMPORTANCE\n",
    "\n",
    "# After fitting the pipeline with the best parameters...\n",
    "# Access the XGBClassifier from the pipeline\n",
    "xgb_model = model_pipeline.named_steps['model']\n",
    "\n",
    "# Get feature importances\n",
    "feature_importances = xgb_model.feature_importances_\n",
    "\n",
    "# Access the OneHotEncoder from the pipeline\n",
    "onehot_encoder = model_pipeline.named_steps['preprocessor'].named_transformers_['cat'].named_steps['onehot']\n",
    "\n",
    "# Access the categorical feature names after one-hot encoding\n",
    "categorical_feature_names = onehot_encoder.get_feature_names_out(input_features=categorical_cols)\n",
    "\n",
    "# Combine with numerical feature names to create the full list\n",
    "full_feature_names = list(numerical_cols) + list(categorical_feature_names) + ['year', 'month', 'day', 'period time']\n",
    "\n",
    "\n",
    "\n",
    "full_feature_names\n",
    "\n",
    "\n",
    "\n",
    "# Create a DataFrame to view feature names and their importance scores\n",
    "importances = pd.DataFrame({'feature': full_feature_names, 'importance': feature_importances})\n",
    "\n",
    "# Sort the DataFrame to see the most important features at the top\n",
    "importances = importances.sort_values(by='importance', ascending=False)\n",
    "\n",
    "# Display the feature importances\n",
    "print(importances)\n",
    "\n",
    "\n",
    "\n",
    "# %%"
   ]
  },
  {
   "cell_type": "markdown",
   "metadata": {},
   "source": []
  }
 ],
 "metadata": {
  "language_info": {
   "name": "python"
  }
 },
 "nbformat": 4,
 "nbformat_minor": 2
}
