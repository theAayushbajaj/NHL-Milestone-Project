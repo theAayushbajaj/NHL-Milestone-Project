{
 "cells": [
  {
   "cell_type": "code",
   "execution_count": 1,
   "metadata": {},
   "outputs": [
    {
     "name": "stdout",
     "output_type": "stream",
     "text": [
      "Intel MKL WARNING: Support of Intel(R) Streaming SIMD Extensions 4.2 (Intel(R) SSE4.2) enabled only processors has been deprecated. Intel oneAPI Math Kernel Library 2025.0 will require Intel(R) Advanced Vector Extensions (Intel(R) AVX) instructions.\n",
      "Intel MKL WARNING: Support of Intel(R) Streaming SIMD Extensions 4.2 (Intel(R) SSE4.2) enabled only processors has been deprecated. Intel oneAPI Math Kernel Library 2025.0 will require Intel(R) Advanced Vector Extensions (Intel(R) AVX) instructions.\n"
     ]
    }
   ],
   "source": [
    "import json\n",
    "import os\n",
    "import pandas as pd\n",
    "import glob"
   ]
  },
  {
   "cell_type": "markdown",
   "metadata": {},
   "source": [
    "# EDA"
   ]
  },
  {
   "cell_type": "code",
   "execution_count": 2,
   "metadata": {},
   "outputs": [],
   "source": [
    "def open_json(file_name, direction):\n",
    "    main_direction = os.getcwd()\n",
    "    full_direction = os.path.join(main_direction, direction)\n",
    "    file_location = os.path.join(full_direction, file_name)\n",
    "    with open(file_location, 'r') as file:\n",
    "        data = json.load(file)\n",
    "    print(f'data named \"\\{file_name}\\\" in direction \"\\{direction}\\\" is loaded!')\n",
    "    return data\n",
    "\n",
    "def print_data(name:str, data):\n",
    "    print(name)\n",
    "    print('type of data {}: '.format(type(data)))\n",
    "    main_keys = list(data.keys())\n",
    "    value_type = [type(data[key]) for key in main_keys]\n",
    "    tuple_data = [(main_keys[i], value_type[i]) for i in range(len(main_keys))]\n",
    "    print('\\n(key, type):')\n",
    "    for element in tuple_data:\n",
    "        print(element)\n",
    "    print('-' * 10)\n",
    "    return None"
   ]
  },
  {
   "cell_type": "code",
   "execution_count": 4,
   "metadata": {},
   "outputs": [
    {
     "name": "stdout",
     "output_type": "stream",
     "text": [
      "data named \"\\2016030111.json\" in direction \"\\../data/data/raw_data/2016/playoff_games\" is loaded!\n",
      "length of data: 6\n",
      "\n",
      "length of gameData: 6\n",
      "length of liveData: 4\n",
      "player ids dict_keys(['ID8471958', 'ID8467496', 'ID8476808', 'ID8475715', 'ID8471679', 'ID8474151', 'ID8476851', 'ID8475763', 'ID8474157', 'ID8469521', 'ID8473507', 'ID8471686', 'ID8470630', 'ID8474038', 'ID8475848', 'ID8475204', 'ID8476459', 'ID8473546', 'ID8477476', 'ID8476300', 'ID8471296', 'ID8478561', 'ID8475692', 'ID8470041', 'ID8474000', 'ID8476381', 'ID8468685', 'ID8476869', 'ID8476468', 'ID8471338', 'ID8474207', 'ID8470642', 'ID8475855', 'ID8476431', 'ID8477402', 'ID8476477', 'ID8477446', 'ID8475184', 'ID8474090', 'ID8476470', 'ID8476918', 'ID8474818', 'ID8474613', 'ID8475869', 'ID8476479', 'ID8470854', 'ID8471228', 'ID8474100', 'ID8468505']) \n",
      "\n",
      "example of info. for a player \n",
      "{'id': 8471228, 'fullName': 'Alexander Radulov', 'link': '/api/v1/people/8471228', 'firstName': 'Alexander', 'lastName': 'Radulov', 'primaryNumber': '47', 'birthDate': '1986-07-05', 'currentAge': 37, 'birthCity': 'Nizhny Tagil', 'birthCountry': 'RUS', 'nationality': 'RUS', 'height': '6\\' 2\"', 'weight': 205, 'active': True, 'alternateCaptain': False, 'captain': False, 'rookie': False, 'shootsCatches': 'L', 'rosterStatus': 'Y', 'currentTeam': {'id': 25, 'name': 'Dallas Stars', 'link': '/api/v1/teams/25', 'triCode': 'DAL'}, 'primaryPosition': {'code': 'R', 'name': 'Right Wing', 'type': 'Forward', 'abbreviation': 'RW'}}\n",
      "\n",
      "\n",
      "length of events: \n",
      "example of an event: \n",
      " {'players': [{'player': {'id': 8476300, 'fullName': 'Nikita Nesterov', 'link': '/api/v1/people/8476300'}, 'playerType': 'Hitter'}, {'player': {'id': 8476459, 'fullName': 'Mika Zibanejad', 'link': '/api/v1/people/8476459'}, 'playerType': 'Hittee'}], 'result': {'event': 'Hit', 'eventCode': 'MTL9', 'eventTypeId': 'HIT', 'description': 'Nikita Nesterov hit Mika Zibanejad'}, 'about': {'eventIdx': 10, 'eventId': 9, 'period': 1, 'periodType': 'REGULAR', 'ordinalNum': '1st', 'periodTime': '01:54', 'periodTimeRemaining': '18:06', 'dateTime': '2017-04-12T23:13:22Z', 'goals': {'away': 0, 'home': 0}}, 'coordinates': {'x': 77.0, 'y': -40.0}, 'team': {'id': 8, 'name': 'Montréal Canadiens', 'link': '/api/v1/teams/8', 'triCode': 'MTL'}}\n"
     ]
    }
   ],
   "source": [
    "direction = r'../data/data/raw_data/2016/playoff_games'\n",
    "file_name = '2016030111.json'\n",
    "data = open_json(file_name, direction)\n",
    "print('length of data:', len(data))\n",
    "\n",
    "#print_data('data', data)\n",
    "#print_data('gameData', data['gameData'])\n",
    "#print_data('liveData', data['liveData'])\n",
    "\n",
    "print('\\nlength of gameData: {}'.format(len(data['gameData'])))\n",
    "print('length of liveData: {}'.format(len(data['liveData'])))\n",
    "\n",
    "player_ids = data['gameData']['players'].keys()\n",
    "print('player ids', player_ids, '\\n')\n",
    "\n",
    "player_info_example = data['gameData']['players']['ID8471228'] # player, team\n",
    "print(\"example of info. for a player \")\n",
    "print(player_info_example)\n",
    "print('\\n')\n",
    "\n",
    "# the data about events in the game\n",
    "events = data['liveData']['plays']['allPlays']\n",
    "print('length of events: '.format(len(events)))\n",
    "print('example of an event: \\n', events[10])"
   ]
  },
  {
   "cell_type": "code",
   "execution_count": 5,
   "metadata": {},
   "outputs": [
    {
     "data": {
      "text/plain": [
       "dict_keys(['copyright', 'gamePk', 'link', 'metaData', 'gameData', 'liveData'])"
      ]
     },
     "execution_count": 5,
     "metadata": {},
     "output_type": "execute_result"
    }
   ],
   "source": [
    "data.keys()"
   ]
  },
  {
   "cell_type": "code",
   "execution_count": 6,
   "metadata": {},
   "outputs": [
    {
     "data": {
      "text/plain": [
       "dict_keys(['ID8471958', 'ID8467496', 'ID8476808', 'ID8475715', 'ID8471679', 'ID8474151', 'ID8476851', 'ID8475763', 'ID8474157', 'ID8469521', 'ID8473507', 'ID8471686', 'ID8470630', 'ID8474038', 'ID8475848', 'ID8475204', 'ID8476459', 'ID8473546', 'ID8477476', 'ID8476300', 'ID8471296', 'ID8478561', 'ID8475692', 'ID8470041', 'ID8474000', 'ID8476381', 'ID8468685', 'ID8476869', 'ID8476468', 'ID8471338', 'ID8474207', 'ID8470642', 'ID8475855', 'ID8476431', 'ID8477402', 'ID8476477', 'ID8477446', 'ID8475184', 'ID8474090', 'ID8476470', 'ID8476918', 'ID8474818', 'ID8474613', 'ID8475869', 'ID8476479', 'ID8470854', 'ID8471228', 'ID8474100', 'ID8468505'])"
      ]
     },
     "execution_count": 6,
     "metadata": {},
     "output_type": "execute_result"
    }
   ],
   "source": [
    "data['gameData']['players'].keys()"
   ]
  },
  {
   "cell_type": "code",
   "execution_count": 7,
   "metadata": {},
   "outputs": [
    {
     "data": {
      "text/plain": [
       "dict_keys(['plays', 'linescore', 'boxscore', 'decisions'])"
      ]
     },
     "execution_count": 7,
     "metadata": {},
     "output_type": "execute_result"
    }
   ],
   "source": [
    "data['liveData'].keys()"
   ]
  },
  {
   "cell_type": "code",
   "execution_count": 8,
   "metadata": {},
   "outputs": [
    {
     "data": {
      "text/plain": [
       "[64, 383]"
      ]
     },
     "execution_count": 8,
     "metadata": {},
     "output_type": "execute_result"
    }
   ],
   "source": [
    "data['liveData']['plays']['scoringPlays']"
   ]
  },
  {
   "cell_type": "markdown",
   "metadata": {},
   "source": [
    "# Importing JSON and building dataframes"
   ]
  },
  {
   "cell_type": "code",
   "execution_count": 1,
   "metadata": {},
   "outputs": [
    {
     "name": "stdout",
     "output_type": "stream",
     "text": [
      "Intel MKL WARNING: Support of Intel(R) Streaming SIMD Extensions 4.2 (Intel(R) SSE4.2) enabled only processors has been deprecated. Intel oneAPI Math Kernel Library 2025.0 will require Intel(R) Advanced Vector Extensions (Intel(R) AVX) instructions.\n",
      "Intel MKL WARNING: Support of Intel(R) Streaming SIMD Extensions 4.2 (Intel(R) SSE4.2) enabled only processors has been deprecated. Intel oneAPI Math Kernel Library 2025.0 will require Intel(R) Advanced Vector Extensions (Intel(R) AVX) instructions.\n"
     ]
    }
   ],
   "source": [
    "from pyspark.sql import SparkSession\n",
    "from pyspark.sql import functions as F"
   ]
  },
  {
   "cell_type": "code",
   "execution_count": 2,
   "metadata": {},
   "outputs": [
    {
     "name": "stderr",
     "output_type": "stream",
     "text": [
      "Setting default log level to \"WARN\".\n",
      "To adjust logging level use sc.setLogLevel(newLevel). For SparkR, use setLogLevel(newLevel).\n",
      "23/10/07 12:55:44 WARN NativeCodeLoader: Unable to load native-hadoop library for your platform... using builtin-java classes where applicable\n"
     ]
    }
   ],
   "source": [
    "spark = (\n",
    "    SparkSession.builder\n",
    "    .config('spark.executor.memory', '5g')\n",
    "    .config('spark.executor.cores', '4')\n",
    "    .config('spark.driver.memory','3g')\n",
    "    .config('spark.cores.max', '300')\n",
    "    .config('spark.sql.debug.maxToStringFields','50')\n",
    "    .getOrCreate()\n",
    ")"
   ]
  },
  {
   "cell_type": "code",
   "execution_count": 8,
   "metadata": {},
   "outputs": [
    {
     "name": "stderr",
     "output_type": "stream",
     "text": [
      "                                                                                \r"
     ]
    }
   ],
   "source": [
    "# Read JSON files into a DataFrame\n",
    "df = spark.read.json(\"../data/data/raw_data/2016/regular_games/2016020001.json\")\n",
    "schema = df.schema\n",
    "data_2016 = spark.read.option(\"recursiveFileLookup\", \"true\").json(\"../data/data/raw_data/*/*/*.json\", schema=schema)"
   ]
  },
  {
   "cell_type": "code",
   "execution_count": 50,
   "metadata": {},
   "outputs": [
    {
     "name": "stderr",
     "output_type": "stream",
     "text": [
      "[Stage 217:====================================================>(242 + 4) / 246]\r"
     ]
    },
    {
     "name": "stdout",
     "output_type": "stream",
     "text": [
      "+--------------------------------+\n",
      "|count(DISTINCT gameData.game.pk)|\n",
      "+--------------------------------+\n",
      "|                            7461|\n",
      "+--------------------------------+\n",
      "\n"
     ]
    },
    {
     "name": "stderr",
     "output_type": "stream",
     "text": [
      "                                                                                \r"
     ]
    }
   ],
   "source": [
    "data_2016.select(F.countDistinct(\"gameData.game.pk\")).show()"
   ]
  },
  {
   "cell_type": "code",
   "execution_count": 51,
   "metadata": {},
   "outputs": [
    {
     "name": "stderr",
     "output_type": "stream",
     "text": [
      "                                                                                \r"
     ]
    },
    {
     "data": {
      "text/plain": [
       "177866"
      ]
     },
     "execution_count": 51,
     "metadata": {},
     "output_type": "execute_result"
    }
   ],
   "source": [
    "data_2016.count()"
   ]
  },
  {
   "cell_type": "code",
   "execution_count": 9,
   "metadata": {
    "collapsed": true,
    "jupyter": {
     "outputs_hidden": true
    }
   },
   "outputs": [],
   "source": [
    "#data_2016.printSchema()"
   ]
  },
  {
   "cell_type": "code",
   "execution_count": 5,
   "metadata": {},
   "outputs": [],
   "source": [
    "gameData_season_summary = data_2016.select(F.col(\"gameData.game.pk\").alias('game_id'),\n",
    "                                        F.col(\"gameData.game.season\").alias(\"season\"),\n",
    "                                        F.col(\"gameData.game.type\").alias(\"game_type\"),\n",
    "                                        F.col(\"gameData.datetime.dateTime\").alias(\"start_time\"),\n",
    "                                        F.col(\"gameData.datetime.endDateTime\").alias(\"end_time\"),\n",
    "                                        F.col(\"gameData.teams.away.id\").alias(\"away_team_id\"),\n",
    "                                        F.col(\"gameData.teams.away.name\").alias(\"away_team_name\"),\n",
    "                                        F.col(\"gameData.teams.home.id\").alias(\"home_team_id\"),\n",
    "                                        F.col(\"gameData.teams.home.name\").alias(\"home_team_name\")\n",
    "                                        )"
   ]
  },
  {
   "cell_type": "code",
   "execution_count": 6,
   "metadata": {},
   "outputs": [
    {
     "name": "stderr",
     "output_type": "stream",
     "text": [
      "[Stage 8:=======================================================> (42 + 1) / 43]\r"
     ]
    },
    {
     "name": "stdout",
     "output_type": "stream",
     "text": [
      "+-----------------------+\n",
      "|count(DISTINCT game_id)|\n",
      "+-----------------------+\n",
      "|                   1268|\n",
      "+-----------------------+\n",
      "\n"
     ]
    },
    {
     "name": "stderr",
     "output_type": "stream",
     "text": [
      "                                                                                \r"
     ]
    }
   ],
   "source": [
    "gameData_season_summary.select(F.countDistinct(\"game_id\")).show()"
   ]
  },
  {
   "cell_type": "code",
   "execution_count": 11,
   "metadata": {},
   "outputs": [],
   "source": [
    "allplay = data_2016.select(F.col(\"gamePk\").alias('game_id'),\n",
    "                           F.col(\"gameData.game.season\").alias(\"season\"),\n",
    "                            F.col(\"gameData.game.type\").alias(\"game_type\"),\n",
    "                            F.col(\"gameData.datetime.dateTime\").alias(\"start_time\"),\n",
    "                            F.col(\"gameData.datetime.endDateTime\").alias(\"end_time\"),\n",
    "                            F.col(\"gameData.teams.away.id\").alias(\"away_team_id\"),\n",
    "                            F.col(\"gameData.teams.away.name\").alias(\"away_team_name\"),\n",
    "                            F.col(\"gameData.teams.home.id\").alias(\"home_team_id\"),\n",
    "                            F.col(\"gameData.teams.home.name\").alias(\"home_team_name\"),\n",
    "                            F.explode(F.col(\"liveData.plays.allplays\")).alias(\"allplays\")\n",
    "                                        )\n",
    "\n",
    "linescore = data_2016.select(F.col(\"gamePk\").alias('game_id'),\n",
    "                             F.explode(F.col(\"liveData.linescore.periods\")).alias(\"periods\")\n",
    "                                        )"
   ]
  },
  {
   "cell_type": "code",
   "execution_count": 10,
   "metadata": {},
   "outputs": [],
   "source": [
    "#allplay.printSchema()"
   ]
  },
  {
   "cell_type": "code",
   "execution_count": 6,
   "metadata": {},
   "outputs": [
    {
     "name": "stderr",
     "output_type": "stream",
     "text": [
      "Java HotSpot(TM) 64-Bit Server VM warning: CodeCache is full. Compiler has been disabled.\n",
      "Java HotSpot(TM) 64-Bit Server VM warning: Try increasing the code cache size using -XX:ReservedCodeCacheSize=\n",
      "[Stage 2:===============================>                         (24 + 8) / 43]\r"
     ]
    },
    {
     "name": "stdout",
     "output_type": "stream",
     "text": [
      "CodeCache: size=131072Kb used=35604Kb max_used=35767Kb free=95467Kb\n",
      " bounds [0x00000001089d8000, 0x000000010ad18000, 0x00000001109d8000]\n",
      " total_blobs=13352 nmethods=12436 adapters=827\n",
      " compilation: disabled (not enough contiguous free space left)\n"
     ]
    },
    {
     "name": "stderr",
     "output_type": "stream",
     "text": [
      "[Stage 2:===================================================>     (39 + 4) / 43]\r"
     ]
    },
    {
     "name": "stdout",
     "output_type": "stream",
     "text": [
      "+-----------------------+\n",
      "|count(DISTINCT game_id)|\n",
      "+-----------------------+\n",
      "|                   1264|\n",
      "+-----------------------+\n",
      "\n"
     ]
    },
    {
     "name": "stderr",
     "output_type": "stream",
     "text": [
      "                                                                                \r"
     ]
    }
   ],
   "source": [
    "allplay.select(F.countDistinct(\"game_id\")).show()"
   ]
  },
  {
   "cell_type": "code",
   "execution_count": 12,
   "metadata": {},
   "outputs": [],
   "source": [
    "allplay = allplay.filter((allplay.allplays.result.event==\"Goal\") | (allplay.allplays.result.event==\"Shot\"))"
   ]
  },
  {
   "cell_type": "code",
   "execution_count": 9,
   "metadata": {},
   "outputs": [
    {
     "name": "stderr",
     "output_type": "stream",
     "text": [
      "[Stage 14:====================================================>   (40 + 3) / 43]\r"
     ]
    },
    {
     "name": "stdout",
     "output_type": "stream",
     "text": [
      "+-----------------------+\n",
      "|count(DISTINCT game_id)|\n",
      "+-----------------------+\n",
      "|                   1264|\n",
      "+-----------------------+\n",
      "\n"
     ]
    },
    {
     "name": "stderr",
     "output_type": "stream",
     "text": [
      "                                                                                \r"
     ]
    }
   ],
   "source": [
    "allplay.select(F.countDistinct(\"game_id\")).show()"
   ]
  },
  {
   "cell_type": "code",
   "execution_count": 17,
   "metadata": {},
   "outputs": [],
   "source": [
    "allplayDF = allplay.select(F.col(\"game_id\"),\n",
    "                           F.col(\"season\").alias(\"season\"),\n",
    "                            F.col(\"game_type\").alias(\"game_type\"),\n",
    "                            F.col(\"start_time\").alias(\"start_time\"),\n",
    "                            F.col(\"end_time\").alias(\"end_time\"),\n",
    "                            F.col(\"away_team_id\").alias(\"away_team_id\"),\n",
    "                            F.col(\"away_team_name\").alias(\"away_team_name\"),\n",
    "                            F.col(\"home_team_id\").alias(\"home_team_id\"),\n",
    "                            F.col(\"home_team_name\").alias(\"home_team_name\"),\n",
    "                            F.col(\"allplays.about.eventIdx\").alias(\"eventIdx\"),\n",
    "                           F.col(\"allplays.result.event\").alias(\"event\"),\n",
    "                           F.col(\"allplays.result.description\").alias(\"description\"),\n",
    "                           F.col(\"allplays.result.secondaryType\").alias(\"shotType\"),\n",
    "                           F.col(\"allplays.result.strength.code\").alias(\"strength\"),\n",
    "                           F.col(\"allplays.result.gameWinningGoal\").alias(\"gameWinningGoal\"),\n",
    "                           F.col(\"allplays.result.emptyNet\").alias(\"emptyNet\"),\n",
    "                            F.col(\"allplays.result.penaltySeverity\").alias(\"penaltySeverity\"),\n",
    "                            F.col(\"allplays.result.penaltyMinutes\").alias(\"penaltyMinutes\"),\n",
    "                            F.col(\"allplays.coordinates.x\").alias(\"x_coordinate\"),\n",
    "                            F.col(\"allplays.coordinates.y\").alias(\"y_coordinate\"),\n",
    "                            F.col(\"allplays.team.name\").alias(\"team_name\"),\n",
    "                            F.col(\"allplays.about.period\").alias(\"period\"),\n",
    "                            F.col(\"allplays.about.periodType\").alias(\"periodType\"),\n",
    "                            F.col(\"allplays.about.periodTime\").alias(\"periodTime\"),\n",
    "                            F.col(\"allplays.about.periodTimeRemaining\").alias(\"periodTimeRemaining\"),\n",
    "                            F.when(F.col(\"allplays.result.event\")==\"Goal\",1).otherwise(0).alias(\"is_goal\"),\n",
    "                            F.explode(F.col(\"allplays.players\")).alias(\"players\")\n",
    "                            )"
   ]
  },
  {
   "cell_type": "code",
   "execution_count": 14,
   "metadata": {},
   "outputs": [],
   "source": [
    "#allplayDF.printSchema()"
   ]
  },
  {
   "cell_type": "code",
   "execution_count": 18,
   "metadata": {},
   "outputs": [
    {
     "name": "stderr",
     "output_type": "stream",
     "text": [
      "                                                                                \r"
     ]
    }
   ],
   "source": [
    "player_characteristics = allplayDF.groupBy([\"game_id\",\"eventIdx\"]).pivot(\"players.playerType\").agg(F.first(\"players.player.fullName\"),F.last(\"players.player.fullName\"))\n",
    "\n",
    "player_characteristics = player_characteristics.withColumnRenamed(\"Assist_first(players.player.fullName)\",\"Assist_first\")\\\n",
    "        .withColumnRenamed(\"Assist_last(players.player.fullName)\",\"Assist_last\")\\\n",
    "            .withColumnRenamed(\"Scorer_first(players.player.fullName)\",\"Scorer\")\\\n",
    "                .withColumnRenamed(\"Goalie_first(players.player.fullName)\",\"Goalie\")\\\n",
    "                    .withColumnRenamed(\"Shooter_first(players.player.fullName)\",\"Shooter\")\n",
    "\n",
    "player_characteristics = player_characteristics.select(\"game_id\",\"eventIdx\",\"Assist_first\",\"Assist_last\",\"Scorer\",\"Goalie\",\"Shooter\")"
   ]
  },
  {
   "cell_type": "code",
   "execution_count": 19,
   "metadata": {},
   "outputs": [],
   "source": [
    "allplayDF = allplayDF.join(player_characteristics,[\"game_id\",\"eventIdx\"],\"left\").drop(\"players\").drop_duplicates()"
   ]
  },
  {
   "cell_type": "code",
   "execution_count": 20,
   "metadata": {},
   "outputs": [
    {
     "name": "stdout",
     "output_type": "stream",
     "text": [
      "root\n",
      " |-- game_id: long (nullable = true)\n",
      " |-- periods: struct (nullable = true)\n",
      " |    |-- away: struct (nullable = true)\n",
      " |    |    |-- goals: long (nullable = true)\n",
      " |    |    |-- rinkSide: string (nullable = true)\n",
      " |    |    |-- shotsOnGoal: long (nullable = true)\n",
      " |    |-- endTime: string (nullable = true)\n",
      " |    |-- home: struct (nullable = true)\n",
      " |    |    |-- goals: long (nullable = true)\n",
      " |    |    |-- rinkSide: string (nullable = true)\n",
      " |    |    |-- shotsOnGoal: long (nullable = true)\n",
      " |    |-- num: long (nullable = true)\n",
      " |    |-- ordinalNum: string (nullable = true)\n",
      " |    |-- periodType: string (nullable = true)\n",
      " |    |-- startTime: string (nullable = true)\n",
      "\n"
     ]
    }
   ],
   "source": [
    "linescore.printSchema()"
   ]
  },
  {
   "cell_type": "code",
   "execution_count": 21,
   "metadata": {},
   "outputs": [],
   "source": [
    "linescore = linescore.select(\"game_id\",\n",
    "                            F.col(\"periods.num\").alias(\"period\"),\n",
    "                            F.col(\"periods.home.rinkSide\").alias(\"home_rinkSide\"),\n",
    "                            F.col(\"periods.away.rinkSide\").alias(\"away_rinkSide\"),\n",
    "            )\n",
    "\n",
    "allplayDF = allplayDF.join(linescore,[\"game_id\",\"period\"],\"left\").drop_duplicates()"
   ]
  },
  {
   "cell_type": "code",
   "execution_count": 63,
   "metadata": {},
   "outputs": [
    {
     "name": "stderr",
     "output_type": "stream",
     "text": [
      "                                                                                \r"
     ]
    }
   ],
   "source": [
    "allplayDF.write.option(\"compression\", \"snappy\").mode(\"overwrite\").parquet('data/playData.parquet')"
   ]
  },
  {
   "cell_type": "code",
   "execution_count": 22,
   "metadata": {},
   "outputs": [
    {
     "name": "stderr",
     "output_type": "stream",
     "text": [
      "                                                                                \r"
     ]
    }
   ],
   "source": [
    "allplayDF = allplayDF.toPandas()"
   ]
  },
  {
   "cell_type": "code",
   "execution_count": 23,
   "metadata": {},
   "outputs": [
    {
     "data": {
      "text/plain": [
       "(454011, 33)"
      ]
     },
     "execution_count": 23,
     "metadata": {},
     "output_type": "execute_result"
    }
   ],
   "source": [
    "allplayDF.shape"
   ]
  },
  {
   "cell_type": "code",
   "execution_count": 73,
   "metadata": {},
   "outputs": [
    {
     "name": "stderr",
     "output_type": "stream",
     "text": [
      "                                                                                \r"
     ]
    }
   ],
   "source": [
    "allplayDF.repartition(1).write.mode('overwrite').csv('data/playData2_sw.csv')"
   ]
  },
  {
   "cell_type": "code",
   "execution_count": 67,
   "metadata": {},
   "outputs": [
    {
     "data": {
      "text/plain": [
       "(454011, 31)"
      ]
     },
     "execution_count": 67,
     "metadata": {},
     "output_type": "execute_result"
    }
   ],
   "source": [
    "allplayDF.shape"
   ]
  }
 ],
 "metadata": {
  "kernelspec": {
   "display_name": "Python 3 (Spyder)",
   "language": "python3",
   "name": "python3"
  },
  "language_info": {
   "codemirror_mode": {
    "name": "ipython",
    "version": 3
   },
   "file_extension": ".py",
   "mimetype": "text/x-python",
   "name": "python",
   "nbconvert_exporter": "python",
   "pygments_lexer": "ipython3",
   "version": "3.11.4"
  }
 },
 "nbformat": 4,
 "nbformat_minor": 4
}
