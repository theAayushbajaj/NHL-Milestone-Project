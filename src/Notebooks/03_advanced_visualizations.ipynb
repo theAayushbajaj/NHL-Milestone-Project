{
 "cells": [
  {
   "cell_type": "code",
   "execution_count": 1,
   "metadata": {},
   "outputs": [],
   "source": [
    "import os.path\n",
    "import matplotlib.pyplot as plt\n",
    "import matplotlib.patches as mpatches\n",
    "import numpy as np\n",
    "import pandas as pd\n",
    "pd.set_option('display.max_columns', 100)\n",
    "import seaborn as sns"
   ]
  },
  {
   "cell_type": "code",
   "execution_count": null,
   "metadata": {},
   "outputs": [],
   "source": [
    "df = pd.read_csv('../data/playData_v2.csv')\n",
    "print(f\"Shape of the dataframe: {df.shape}\")\n",
    "display(df.head())"
   ]
  },
  {
   "cell_type": "code",
   "execution_count": null,
   "metadata": {},
   "outputs": [],
   "source": [
    "def euclidian_distance_goal(x) -> float:\n",
    "    y_goal = 0\n",
    "    rink_side = x['home_rinkSide'] if x['team_name'] == x['home_team_name'] else x['away_rinkSide']\n",
    "    x_goal = 89 if rink_side == 'left' else -89\n",
    "    \n",
    "    return np.linalg.norm(np.array([x['x_coordinate'], x['y_coordinate']]) - np.array([x_goal, y_goal]))\n",
    "\n",
    "df['shot_distance'] = df.apply(lambda row: euclidian_distance_goal(row),axis=1)"
   ]
  },
  {
   "cell_type": "code",
   "execution_count": null,
   "metadata": {},
   "outputs": [],
   "source": [
    "def compute_avgshots_league(df: pd.DataFrame, year: int) -> np.array:\n",
    "    \"\"\"\n",
    "    Computes the average shots per hour across the league for a season( year)\n",
    "\n",
    "    :param df:  Tidy or cleaned dataframe with coordinates projected for Half Rink\n",
    "    :param year: season for which average shots per hour are computed\n",
    "    :return: array with shape 100X85\n",
    "    \"\"\"\n",
    "\n",
    "    season = int(str(year) + str(year + 1))\n",
    "\n",
    "    df_copy = df[df[\"season\"] == season].copy()\n",
    "    df_copy[\"coord_tuple\"] = df_copy[[\"x_coordinate_adj\", \"y_coordinate_adj\"]].apply(tuple, axis=1)\n",
    "\n",
    "    league_data = np.zeros((100, 85))\n",
    "\n",
    "    for i, j in df_copy[\"coord_tuple\"]:\n",
    "        if np.isnan(i) or np.isnan(j):\n",
    "            pass\n",
    "        else:\n",
    "            league_data[int(i), int(j)] += 1\n",
    "\n",
    "    # total hours in the season\n",
    "    season_matches_drop = df_copy.drop_duplicates(subset=[\"game_id\"], keep=\"last\")\n",
    "    season_hours = 0\n",
    "    for i, txt in enumerate(season_matches_drop[\"game_time\"]):\n",
    "        time = txt.split(\":\")\n",
    "        hour_match = int(time[0]) / 60.0 + int(time[1]) / 3600.0\n",
    "        season_hours += max(hour_match, 1.0)\n",
    "\n",
    "    # need to count each game twice since two team, need to replace with actual calculation of total game time\n",
    "    league_data = league_data / (season_hours * 2)\n",
    "\n",
    "    return league_data"
   ]
  },
  {
   "cell_type": "markdown",
   "metadata": {},
   "source": [
    "Average shot rate per grid per game = Total shots per grid per game / Total shots in the game\n",
    "Average shot rate per grid per hour = Average shot rate per grid per game / Game duration in hours\n",
    "\n",
    "Average shot rate per hour per grid = sum(Average shot rate per grid per hour) / number of games"
   ]
  }
 ],
 "metadata": {
  "kernelspec": {
   "display_name": "eda",
   "language": "python",
   "name": "python3"
  },
  "language_info": {
   "codemirror_mode": {
    "name": "ipython",
    "version": 3
   },
   "file_extension": ".py",
   "mimetype": "text/x-python",
   "name": "python",
   "nbconvert_exporter": "python",
   "pygments_lexer": "ipython3",
   "version": "3.11.4"
  },
  "orig_nbformat": 4
 },
 "nbformat": 4,
 "nbformat_minor": 2
}
