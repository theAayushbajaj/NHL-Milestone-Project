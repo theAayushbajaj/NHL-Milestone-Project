{
 "cells": [
  {
   "cell_type": "markdown",
   "id": "dcaee8a2-e231-44cd-a6b8-2e1ab56de724",
   "metadata": {},
   "source": [
    "# Github Link \n",
    "\n",
    "# [MilteStone2 Branch](https://github.com/theAayushbajaj/NHL-Milestone-Project/tree/milestone-2-dev/src)\n",
    "\n",
    "Resources \n",
    "\n",
    "- [1-educative](https://www.educative.io/answers/classification-using-xgboost-in-python) \n",
    "\n",
    "- [2-datacamp](https://www.datacamp.com/tutorial/xgboost-in-python)\n",
    "\n",
    "- [3-mljar](https://mljar.com/blog/xgboost-save-load-python/)"
   ]
  },
  {
   "cell_type": "code",
   "execution_count": 119,
   "id": "ee343449-efc6-4fb5-a52a-83ef85e5067a",
   "metadata": {},
   "outputs": [],
   "source": [
    "from comet_ml import Experiment\n",
    "import pickle \n",
    "import os \n",
    "import pandas as pd \n",
    "import matplotlib.pyplot as plt \n",
    "import seaborn as sns\n",
    "import numpy as np\n",
    "# Sckit learn modules and classes \n",
    "from sklearn.metrics import confusion_matrix, f1_score, \\\n",
    "precision_score, recall_score, classification_report, accuracy_score\n",
    "from sklearn.model_selection import train_test_split\n",
    "# encoding \n",
    "from sklearn.preprocessing import OneHotEncoder \n",
    "from category_encoders import TargetEncoder\n",
    "import xgboost as xgb\n",
    "import utils # functions\n",
    "import warnings "
   ]
  },
  {
   "cell_type": "code",
   "execution_count": 2,
   "id": "b3a7e1d5-62cb-4292-9a65-76cac8a58eb9",
   "metadata": {},
   "outputs": [],
   "source": [
    "warnings.filterwarnings(\"ignore\")\n",
    "# warnings.filterwarnings(\"default\")"
   ]
  },
  {
   "cell_type": "code",
   "execution_count": 3,
   "id": "59f302ec-a4e2-449e-b608-3a3f66b0e062",
   "metadata": {},
   "outputs": [],
   "source": [
    "# Set display options to show all columns\n",
    "pd.set_option('display.max_columns', None)\n",
    "seed = 200 "
   ]
  },
  {
   "cell_type": "code",
   "execution_count": 4,
   "id": "85dfb5e9-3c90-4fe8-b263-21accb04b65a",
   "metadata": {},
   "outputs": [],
   "source": [
    "df_base = pd.read_csv('baseline_model_data.csv')"
   ]
  },
  {
   "cell_type": "code",
   "execution_count": 10,
   "id": "2300fe04-9dd9-47b4-a8dc-767f3e8d3cf3",
   "metadata": {},
   "outputs": [
    {
     "name": "stdout",
     "output_type": "stream",
     "text": [
      "Index(['season', 'shot_distance', 'shot_angle', 'empty_net', 'is_goal'], dtype='object')\n"
     ]
    }
   ],
   "source": [
    "# adding space to the white space in column names \n",
    "cols_rename_base = utils.renamer(df_base) \n",
    "df_base.rename(columns=cols_rename_base, inplace=True)\n",
    "print(df_base.columns)"
   ]
  },
  {
   "cell_type": "code",
   "execution_count": 13,
   "id": "e9404f59-313b-478d-b509-055d1054000c",
   "metadata": {},
   "outputs": [],
   "source": [
    "# filter season 2020 for test and the remaining goes to train \n",
    "df_base_test = df_base[df_base.season == 2020]\n",
    "df_base_train = df_base[df_base.season < 2020]\n",
    "\n",
    "# cols for question 1 \n",
    "cols = ['shot_distance', 'shot_angle']\n",
    "\n",
    "# features \n",
    "df_base_train_X = df_base_train.loc[:, cols] \n",
    "df_base_test_X = df_base_test.loc[:, cols] \n",
    "# targets \n",
    "df_base_train_y = df_base_train.iloc[:, -1] \n",
    "df_base_test_y = df_base_test.iloc[:, -1] "
   ]
  },
  {
   "cell_type": "code",
   "execution_count": 14,
   "id": "30dadd0e-c0ae-4a05-a73a-b83d872bf276",
   "metadata": {},
   "outputs": [],
   "source": [
    "X_train, X_test, y_train, y_test = train_test_split(df_base_train_X, \n",
    "                                                    df_base_train_y, \n",
    "                                                    random_state=seed, \n",
    "                                                    test_size=0.2, \n",
    "                                                    stratify=df_base_train_y)"
   ]
  },
  {
   "cell_type": "code",
   "execution_count": 87,
   "id": "2923fe4e-f610-4305-8302-4a8c30c0aa0f",
   "metadata": {},
   "outputs": [],
   "source": [
    "# Create regression matrices\n",
    "train = xgb.DMatrix(X_train, y_train)\n",
    "test = xgb.DMatrix(X_test, y_test)"
   ]
  },
  {
   "cell_type": "code",
   "execution_count": 91,
   "id": "1ccd16e0-51be-407a-ab60-2b3d2683e4b2",
   "metadata": {},
   "outputs": [],
   "source": [
    "params = {\"objective\": \"binary:logistic\", \"tree_method\": \"hist\", \n",
    "         \"max_depth\":10, \"learning_rate\": 0.01,\n",
    "         \"seed\": seed}\n",
    "# \"tree_method\": \"gpu_hist\""
   ]
  },
  {
   "cell_type": "code",
   "execution_count": 92,
   "id": "3d8ccdad-a2c6-461e-a012-b384bb3d250d",
   "metadata": {},
   "outputs": [
    {
     "name": "stdout",
     "output_type": "stream",
     "text": [
      "[0]\ttrain-logloss:0.33352\tvalidation-logloss:0.33355\n",
      "[1]\ttrain-logloss:0.33282\tvalidation-logloss:0.33287\n",
      "[2]\ttrain-logloss:0.33212\tvalidation-logloss:0.33220\n",
      "[3]\ttrain-logloss:0.33144\tvalidation-logloss:0.33154\n",
      "[4]\ttrain-logloss:0.33076\tvalidation-logloss:0.33089\n",
      "[5]\ttrain-logloss:0.33010\tvalidation-logloss:0.33025\n",
      "[6]\ttrain-logloss:0.32944\tvalidation-logloss:0.32961\n",
      "[7]\ttrain-logloss:0.32880\tvalidation-logloss:0.32899\n",
      "[8]\ttrain-logloss:0.32816\tvalidation-logloss:0.32838\n",
      "[9]\ttrain-logloss:0.32753\tvalidation-logloss:0.32777\n",
      "[10]\ttrain-logloss:0.32692\tvalidation-logloss:0.32718\n",
      "[11]\ttrain-logloss:0.32631\tvalidation-logloss:0.32659\n",
      "[12]\ttrain-logloss:0.32571\tvalidation-logloss:0.32601\n",
      "[13]\ttrain-logloss:0.32511\tvalidation-logloss:0.32544\n",
      "[14]\ttrain-logloss:0.32453\tvalidation-logloss:0.32488\n",
      "[15]\ttrain-logloss:0.32395\tvalidation-logloss:0.32432\n",
      "[16]\ttrain-logloss:0.32339\tvalidation-logloss:0.32378\n",
      "[17]\ttrain-logloss:0.32283\tvalidation-logloss:0.32324\n",
      "[18]\ttrain-logloss:0.32228\tvalidation-logloss:0.32271\n",
      "[19]\ttrain-logloss:0.32173\tvalidation-logloss:0.32219\n",
      "[20]\ttrain-logloss:0.32120\tvalidation-logloss:0.32168\n",
      "[21]\ttrain-logloss:0.32067\tvalidation-logloss:0.32117\n",
      "[22]\ttrain-logloss:0.32015\tvalidation-logloss:0.32067\n",
      "[23]\ttrain-logloss:0.31963\tvalidation-logloss:0.32018\n",
      "[24]\ttrain-logloss:0.31913\tvalidation-logloss:0.31970\n",
      "[25]\ttrain-logloss:0.31863\tvalidation-logloss:0.31922\n",
      "[26]\ttrain-logloss:0.31813\tvalidation-logloss:0.31875\n",
      "[27]\ttrain-logloss:0.31765\tvalidation-logloss:0.31828\n",
      "[28]\ttrain-logloss:0.31717\tvalidation-logloss:0.31783\n",
      "[29]\ttrain-logloss:0.31670\tvalidation-logloss:0.31738\n",
      "[30]\ttrain-logloss:0.31623\tvalidation-logloss:0.31693\n",
      "[31]\ttrain-logloss:0.31577\tvalidation-logloss:0.31649\n",
      "[32]\ttrain-logloss:0.31532\tvalidation-logloss:0.31606\n",
      "[33]\ttrain-logloss:0.31487\tvalidation-logloss:0.31563\n",
      "[34]\ttrain-logloss:0.31443\tvalidation-logloss:0.31521\n",
      "[35]\ttrain-logloss:0.31400\tvalidation-logloss:0.31479\n",
      "[36]\ttrain-logloss:0.31357\tvalidation-logloss:0.31439\n",
      "[37]\ttrain-logloss:0.31315\tvalidation-logloss:0.31398\n",
      "[38]\ttrain-logloss:0.31273\tvalidation-logloss:0.31359\n",
      "[39]\ttrain-logloss:0.31232\tvalidation-logloss:0.31320\n",
      "[40]\ttrain-logloss:0.31192\tvalidation-logloss:0.31281\n",
      "[41]\ttrain-logloss:0.31152\tvalidation-logloss:0.31243\n",
      "[42]\ttrain-logloss:0.31113\tvalidation-logloss:0.31206\n",
      "[43]\ttrain-logloss:0.31074\tvalidation-logloss:0.31169\n",
      "[44]\ttrain-logloss:0.31036\tvalidation-logloss:0.31133\n",
      "[45]\ttrain-logloss:0.30998\tvalidation-logloss:0.31097\n",
      "[46]\ttrain-logloss:0.30961\tvalidation-logloss:0.31062\n",
      "[47]\ttrain-logloss:0.30924\tvalidation-logloss:0.31027\n",
      "[48]\ttrain-logloss:0.30888\tvalidation-logloss:0.30993\n",
      "[49]\ttrain-logloss:0.30853\tvalidation-logloss:0.30959\n",
      "[50]\ttrain-logloss:0.30817\tvalidation-logloss:0.30926\n",
      "[51]\ttrain-logloss:0.30783\tvalidation-logloss:0.30893\n",
      "[52]\ttrain-logloss:0.30749\tvalidation-logloss:0.30861\n",
      "[53]\ttrain-logloss:0.30715\tvalidation-logloss:0.30829\n",
      "[54]\ttrain-logloss:0.30682\tvalidation-logloss:0.30798\n",
      "[55]\ttrain-logloss:0.30649\tvalidation-logloss:0.30767\n",
      "[56]\ttrain-logloss:0.30617\tvalidation-logloss:0.30737\n",
      "[57]\ttrain-logloss:0.30585\tvalidation-logloss:0.30707\n",
      "[58]\ttrain-logloss:0.30553\tvalidation-logloss:0.30677\n",
      "[59]\ttrain-logloss:0.30523\tvalidation-logloss:0.30648\n",
      "[60]\ttrain-logloss:0.30492\tvalidation-logloss:0.30620\n",
      "[61]\ttrain-logloss:0.30462\tvalidation-logloss:0.30591\n",
      "[62]\ttrain-logloss:0.30432\tvalidation-logloss:0.30564\n",
      "[63]\ttrain-logloss:0.30403\tvalidation-logloss:0.30536\n",
      "[64]\ttrain-logloss:0.30374\tvalidation-logloss:0.30509\n",
      "[65]\ttrain-logloss:0.30346\tvalidation-logloss:0.30482\n",
      "[66]\ttrain-logloss:0.30317\tvalidation-logloss:0.30456\n",
      "[67]\ttrain-logloss:0.30290\tvalidation-logloss:0.30430\n",
      "[68]\ttrain-logloss:0.30262\tvalidation-logloss:0.30405\n",
      "[69]\ttrain-logloss:0.30235\tvalidation-logloss:0.30380\n",
      "[70]\ttrain-logloss:0.30209\tvalidation-logloss:0.30355\n",
      "[71]\ttrain-logloss:0.30183\tvalidation-logloss:0.30331\n",
      "[72]\ttrain-logloss:0.30157\tvalidation-logloss:0.30307\n",
      "[73]\ttrain-logloss:0.30131\tvalidation-logloss:0.30283\n",
      "[74]\ttrain-logloss:0.30106\tvalidation-logloss:0.30260\n",
      "[75]\ttrain-logloss:0.30081\tvalidation-logloss:0.30237\n",
      "[76]\ttrain-logloss:0.30057\tvalidation-logloss:0.30215\n",
      "[77]\ttrain-logloss:0.30033\tvalidation-logloss:0.30192\n",
      "[78]\ttrain-logloss:0.30009\tvalidation-logloss:0.30170\n",
      "[79]\ttrain-logloss:0.29986\tvalidation-logloss:0.30149\n",
      "[80]\ttrain-logloss:0.29963\tvalidation-logloss:0.30128\n",
      "[81]\ttrain-logloss:0.29940\tvalidation-logloss:0.30107\n",
      "[82]\ttrain-logloss:0.29917\tvalidation-logloss:0.30086\n",
      "[83]\ttrain-logloss:0.29895\tvalidation-logloss:0.30066\n",
      "[84]\ttrain-logloss:0.29874\tvalidation-logloss:0.30046\n",
      "[85]\ttrain-logloss:0.29852\tvalidation-logloss:0.30026\n",
      "[86]\ttrain-logloss:0.29831\tvalidation-logloss:0.30007\n",
      "[87]\ttrain-logloss:0.29810\tvalidation-logloss:0.29988\n",
      "[88]\ttrain-logloss:0.29789\tvalidation-logloss:0.29969\n",
      "[89]\ttrain-logloss:0.29769\tvalidation-logloss:0.29950\n",
      "[90]\ttrain-logloss:0.29749\tvalidation-logloss:0.29932\n",
      "[91]\ttrain-logloss:0.29729\tvalidation-logloss:0.29914\n",
      "[92]\ttrain-logloss:0.29710\tvalidation-logloss:0.29896\n",
      "[93]\ttrain-logloss:0.29690\tvalidation-logloss:0.29879\n",
      "[94]\ttrain-logloss:0.29671\tvalidation-logloss:0.29861\n",
      "[95]\ttrain-logloss:0.29653\tvalidation-logloss:0.29844\n",
      "[96]\ttrain-logloss:0.29634\tvalidation-logloss:0.29827\n",
      "[97]\ttrain-logloss:0.29616\tvalidation-logloss:0.29811\n",
      "[98]\ttrain-logloss:0.29598\tvalidation-logloss:0.29795\n",
      "[99]\ttrain-logloss:0.29580\tvalidation-logloss:0.29779\n"
     ]
    }
   ],
   "source": [
    "model = xgb.train(params, train, evals=[(train, \"train\"), (test, \"validation\")], \n",
    "          num_boost_round=100, early_stopping_rounds=20) "
   ]
  },
  {
   "cell_type": "code",
   "execution_count": 102,
   "id": "c5be97fc-d1f4-4c1d-91d6-2ea92ffe1340",
   "metadata": {},
   "outputs": [
    {
     "name": "stdout",
     "output_type": "stream",
     "text": [
      "best_iteration 99\n"
     ]
    }
   ],
   "source": [
    "print('best_iteration', model.best_iteration)"
   ]
  },
  {
   "cell_type": "code",
   "execution_count": 115,
   "id": "e0c53ab7-5fc1-491f-93b9-ed0a55c21097",
   "metadata": {},
   "outputs": [],
   "source": [
    "y_prob = model.predict(test, iteration_range=(0, model.best_iteration+1))\n",
    "y_pred = np.array([1 if prob >= 0.5 else 0 for prob in y_pred]) "
   ]
  },
  {
   "cell_type": "code",
   "execution_count": 116,
   "id": "63106243-7a76-4581-938f-6c0f61241547",
   "metadata": {},
   "outputs": [
    {
     "data": {
      "text/plain": [
       "array([0.16531676, 0.11945973, 0.08808973, ..., 0.14233795, 0.15339181,\n",
       "       0.19194219], dtype=float32)"
      ]
     },
     "execution_count": 116,
     "metadata": {},
     "output_type": "execute_result"
    }
   ],
   "source": [
    "y_prob"
   ]
  },
  {
   "cell_type": "code",
   "execution_count": 117,
   "id": "102cdad5-7c76-4d37-bb31-c9cba7933477",
   "metadata": {},
   "outputs": [
    {
     "name": "stdout",
     "output_type": "stream",
     "text": [
      "[[53946     0]\n",
      " [ 5655     0]]\n"
     ]
    }
   ],
   "source": [
    "cfn_mat = confusion_matrix(y_test, y_pred)\n",
    "print(cfn_mat)"
   ]
  },
  {
   "cell_type": "code",
   "execution_count": 122,
   "id": "9caf3482-078f-46be-8002-a2b8ac1a07f3",
   "metadata": {},
   "outputs": [],
   "source": [
    "accuracy = accuracy_score(y_test, y_pred)\n",
    "fsc = f1_score(y_test, y_pred)\n",
    "psc = precision_score(y_test, y_pred)\n",
    "rsc = recall_score(y_test, y_pred)\n",
    "report = classification_report(y_test, y_pred)"
   ]
  },
  {
   "cell_type": "code",
   "execution_count": 126,
   "id": "e53496ea-3f04-408a-b8b7-181b9d36cde9",
   "metadata": {},
   "outputs": [
    {
     "name": "stdout",
     "output_type": "stream",
     "text": [
      "accuracy 0.9051190416268183\n",
      "f1_score 0.0\n",
      "precision_score 0.0\n",
      "recall_score 0.0\n"
     ]
    }
   ],
   "source": [
    "print(f'accuracy {accuracy}')\n",
    "print(f'f1_score {fsc}')\n",
    "print(f'precision_score {psc}')\n",
    "print(f'recall_score {rsc}')"
   ]
  },
  {
   "cell_type": "code",
   "execution_count": 127,
   "id": "eaf91fbd-f4d9-44dd-94c5-df536af1f614",
   "metadata": {},
   "outputs": [
    {
     "name": "stdout",
     "output_type": "stream",
     "text": [
      "              precision    recall  f1-score   support\n",
      "\n",
      "           0       0.91      1.00      0.95     53946\n",
      "           1       0.00      0.00      0.00      5655\n",
      "\n",
      "    accuracy                           0.91     59601\n",
      "   macro avg       0.45      0.50      0.48     59601\n",
      "weighted avg       0.82      0.91      0.86     59601\n",
      "\n"
     ]
    }
   ],
   "source": [
    "print(report)"
   ]
  },
  {
   "cell_type": "code",
   "execution_count": null,
   "id": "3354f349-e2e0-4bec-a362-210fb4899ae0",
   "metadata": {},
   "outputs": [],
   "source": []
  }
 ],
 "metadata": {
  "kernelspec": {
   "display_name": "Python 3 (ipykernel)",
   "language": "python",
   "name": "python3"
  },
  "language_info": {
   "codemirror_mode": {
    "name": "ipython",
    "version": 3
   },
   "file_extension": ".py",
   "mimetype": "text/x-python",
   "name": "python",
   "nbconvert_exporter": "python",
   "pygments_lexer": "ipython3",
   "version": "3.11.5"
  }
 },
 "nbformat": 4,
 "nbformat_minor": 5
}
